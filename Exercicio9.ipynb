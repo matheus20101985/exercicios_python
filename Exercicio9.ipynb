{
  "nbformat": 4,
  "nbformat_minor": 0,
  "metadata": {
    "colab": {
      "provenance": [],
      "authorship_tag": "ABX9TyO1/wDV5zaDmayLTFFdy1wg",
      "include_colab_link": true
    },
    "kernelspec": {
      "name": "python3",
      "display_name": "Python 3"
    },
    "language_info": {
      "name": "python"
    }
  },
  "cells": [
    {
      "cell_type": "markdown",
      "metadata": {
        "id": "view-in-github",
        "colab_type": "text"
      },
      "source": [
        "<a href=\"https://colab.research.google.com/github/matheus20101985/exercicios_python/blob/main/Exercicio9.ipynb\" target=\"_parent\"><img src=\"https://colab.research.google.com/assets/colab-badge.svg\" alt=\"Open In Colab\"/></a>"
      ]
    },
    {
      "cell_type": "code",
      "execution_count": 3,
      "metadata": {
        "id": "GxrX3TS1xNoH"
      },
      "outputs": [],
      "source": [
        "#Exercicio9\n",
        "\n",
        "def tabuada(a):\n",
        "  print(f\"{a} x {0} = {a*0}\")\n",
        "  print(f\"{a} x {1} = {a*1}\")\n",
        "  print(f\"{a} x {2} = {a*2}\")\n",
        "  print(f\"{a} x {3} = {a*3}\")\n",
        "  print(f\"{a} x {4} = {a*4}\")\n",
        "  print(f\"{a} x {5} = {a*5}\")\n",
        "  print(f\"{a} x {6} = {a*6}\")\n",
        "  print(f\"{a} x {7} = {a*7}\")\n",
        "  print(f\"{a} x {8} = {a*8}\")\n",
        "  print(f\"{a} x {9} = {a*9}\")\n",
        "  print(f\"{a} x {10} = {a*10}\")\n",
        "\n",
        "\n"
      ]
    },
    {
      "cell_type": "code",
      "source": [
        "tabuada(5)"
      ],
      "metadata": {
        "colab": {
          "base_uri": "https://localhost:8080/"
        },
        "id": "pU6qnHl0xz3n",
        "outputId": "1c7a9963-0329-47a2-a961-bbf30571c199"
      },
      "execution_count": 4,
      "outputs": [
        {
          "output_type": "stream",
          "name": "stdout",
          "text": [
            "5 x 0 = 0\n",
            "5 x 1 = 5\n",
            "5 x 2 = 10\n",
            "5 x 3 = 15\n",
            "5 x 4 = 20\n",
            "5 x 5 = 25\n",
            "5 x 6 = 30\n",
            "5 x 7 = 35\n",
            "5 x 8 = 40\n",
            "5 x 9 = 45\n",
            "5 x 10 = 50\n"
          ]
        }
      ]
    },
    {
      "cell_type": "code",
      "source": [],
      "metadata": {
        "id": "pxUcb5Qix1_H"
      },
      "execution_count": null,
      "outputs": []
    }
  ]
}