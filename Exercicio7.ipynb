{
  "nbformat": 4,
  "nbformat_minor": 0,
  "metadata": {
    "colab": {
      "provenance": [],
      "authorship_tag": "ABX9TyOQhXR9C/1jrt79ysrsRAoR",
      "include_colab_link": true
    },
    "kernelspec": {
      "name": "python3",
      "display_name": "Python 3"
    },
    "language_info": {
      "name": "python"
    }
  },
  "cells": [
    {
      "cell_type": "markdown",
      "metadata": {
        "id": "view-in-github",
        "colab_type": "text"
      },
      "source": [
        "<a href=\"https://colab.research.google.com/github/matheus20101985/exercicios_python/blob/main/Exercicio7.ipynb\" target=\"_parent\"><img src=\"https://colab.research.google.com/assets/colab-badge.svg\" alt=\"Open In Colab\"/></a>"
      ]
    },
    {
      "cell_type": "code",
      "execution_count": 8,
      "metadata": {
        "id": "eNawjLxdt1zU"
      },
      "outputs": [],
      "source": [
        "#Exercicio7\n",
        "\n",
        "def media(a,b):\n",
        "  media = (a+b/2)\n",
        "  print(f\"Media total = {media:.2f}\")"
      ]
    },
    {
      "cell_type": "code",
      "source": [
        "a = float(input(\"informe a primeira nota: \"))\n",
        "b = float(input(\"informe a segunda nota: \"))\n",
        "\n",
        "media(a,b)  \n"
      ],
      "metadata": {
        "colab": {
          "base_uri": "https://localhost:8080/"
        },
        "id": "E8mpG_F0t56I",
        "outputId": "5c6edb41-8418-4716-dddb-fe6c5c9651bf"
      },
      "execution_count": 9,
      "outputs": [
        {
          "output_type": "stream",
          "name": "stdout",
          "text": [
            "informe a primeira nota: 159.48965\n",
            "informe a segunda nota: 8965.4678\n",
            "Media total = 4642.22\n"
          ]
        }
      ]
    }
  ]
}