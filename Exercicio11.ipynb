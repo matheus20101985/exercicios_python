{
  "nbformat": 4,
  "nbformat_minor": 0,
  "metadata": {
    "colab": {
      "provenance": [],
      "authorship_tag": "ABX9TyN8bV+kBDj9FxRpSV6JMw2A",
      "include_colab_link": true
    },
    "kernelspec": {
      "name": "python3",
      "display_name": "Python 3"
    },
    "language_info": {
      "name": "python"
    }
  },
  "cells": [
    {
      "cell_type": "markdown",
      "metadata": {
        "id": "view-in-github",
        "colab_type": "text"
      },
      "source": [
        "<a href=\"https://colab.research.google.com/github/matheus20101985/exercicios_python/blob/main/Exercicio11.ipynb\" target=\"_parent\"><img src=\"https://colab.research.google.com/assets/colab-badge.svg\" alt=\"Open In Colab\"/></a>"
      ]
    },
    {
      "cell_type": "code",
      "execution_count": 6,
      "metadata": {
        "colab": {
          "base_uri": "https://localhost:8080/"
        },
        "id": "d5MPTcPbWZ6I",
        "outputId": "8dea04bd-50e7-4404-bdf7-a23ad2b41585"
      },
      "outputs": [
        {
          "output_type": "stream",
          "name": "stdout",
          "text": [
            "a parede possui uma área de 4.375m²\n",
            "para essa area voce vai gastar 2.188l de tinta\n"
          ]
        }
      ],
      "source": [
        "#Exercicio 11\n",
        "\n",
        "def pintar_parede(largura,altura):\n",
        "  print(f\"a parede possui uma área de {largura*altura:.3f}m²\")\n",
        "  print(f\"para essa area voce vai gastar {(largura*altura)/2:.3f}l de tinta\")\n",
        "\n",
        "\n",
        "pintar_parede(2.5,1.75)"
      ]
    }
  ]
}