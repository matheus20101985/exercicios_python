{
  "nbformat": 4,
  "nbformat_minor": 0,
  "metadata": {
    "colab": {
      "provenance": [],
      "authorship_tag": "ABX9TyNCOYWS1GlEvobhIP0q0y/N",
      "include_colab_link": true
    },
    "kernelspec": {
      "name": "python3",
      "display_name": "Python 3"
    },
    "language_info": {
      "name": "python"
    }
  },
  "cells": [
    {
      "cell_type": "markdown",
      "metadata": {
        "id": "view-in-github",
        "colab_type": "text"
      },
      "source": [
        "<a href=\"https://colab.research.google.com/github/matheus20101985/exercicios_python/blob/main/Exercicio12.ipynb\" target=\"_parent\"><img src=\"https://colab.research.google.com/assets/colab-badge.svg\" alt=\"Open In Colab\"/></a>"
      ]
    },
    {
      "cell_type": "code",
      "execution_count": 6,
      "metadata": {
        "colab": {
          "base_uri": "https://localhost:8080/"
        },
        "id": "xDMifkbYajxs",
        "outputId": "ff508e25-2b00-4b6a-8a6f-a878e24c692b"
      },
      "outputs": [
        {
          "output_type": "stream",
          "name": "stdout",
          "text": [
            "informe o valor do produto: 123.95\n",
            "na promoção de hoje, voce ganhou um desconto de 5%. Seu produto agora custa R$ 117.75\n"
          ]
        }
      ],
      "source": [
        "#Exercicio 12\n",
        "\n",
        "produto = float(input(\"informe o valor do produto: \"))\n",
        "\n",
        "print(f\"na promoção de hoje, voce ganhou um desconto de 5%. Seu produto agora custa R$ {produto*0.95:.2f}\")"
      ]
    }
  ]
}