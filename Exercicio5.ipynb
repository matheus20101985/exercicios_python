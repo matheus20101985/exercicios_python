{
  "nbformat": 4,
  "nbformat_minor": 0,
  "metadata": {
    "colab": {
      "provenance": [],
      "authorship_tag": "ABX9TyOkZxevNjke7RYZBGjNPePX",
      "include_colab_link": true
    },
    "kernelspec": {
      "name": "python3",
      "display_name": "Python 3"
    },
    "language_info": {
      "name": "python"
    }
  },
  "cells": [
    {
      "cell_type": "markdown",
      "metadata": {
        "id": "view-in-github",
        "colab_type": "text"
      },
      "source": [
        "<a href=\"https://colab.research.google.com/github/matheus20101985/exercicios_python/blob/main/Exercicio5.ipynb\" target=\"_parent\"><img src=\"https://colab.research.google.com/assets/colab-badge.svg\" alt=\"Open In Colab\"/></a>"
      ]
    },
    {
      "cell_type": "code",
      "execution_count": 1,
      "metadata": {
        "id": "FLb9trY6lkFB"
      },
      "outputs": [],
      "source": [
        "#Exercicio05\n",
        "\n",
        "def ant_suc(a):\n",
        "  a = int(input(\"informe um numero: \"))\n",
        "\n",
        "  print(f\"\\nO antecessor do {a} é o {a-1} e o seu sucessor é o {a+1}\")"
      ]
    },
    {
      "cell_type": "code",
      "source": [
        "ant_suc(15)"
      ],
      "metadata": {
        "colab": {
          "base_uri": "https://localhost:8080/"
        },
        "id": "Gy1tG2x-mNuJ",
        "outputId": "4933c48c-073d-4605-d726-d405de9bd79d"
      },
      "execution_count": 2,
      "outputs": [
        {
          "output_type": "stream",
          "name": "stdout",
          "text": [
            "informe um numero: 30\n",
            "\n",
            "O antecessor do 30 é o 29 e o seu sucessor é o 31\n"
          ]
        }
      ]
    },
    {
      "cell_type": "code",
      "source": [],
      "metadata": {
        "id": "KI9Hf00dm8Vn"
      },
      "execution_count": null,
      "outputs": []
    }
  ]
}