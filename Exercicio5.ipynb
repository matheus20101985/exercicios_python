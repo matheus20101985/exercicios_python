{
  "nbformat": 4,
  "nbformat_minor": 0,
  "metadata": {
    "colab": {
      "provenance": [],
      "authorship_tag": "ABX9TyM7/OgErFqrNSChVWX6WA90",
      "include_colab_link": true
    },
    "kernelspec": {
      "name": "python3",
      "display_name": "Python 3"
    },
    "language_info": {
      "name": "python"
    }
  },
  "cells": [
    {
      "cell_type": "markdown",
      "metadata": {
        "id": "view-in-github",
        "colab_type": "text"
      },
      "source": [
        "<a href=\"https://colab.research.google.com/github/matheus20101985/exercicios_python/blob/main/Exercicio5.ipynb\" target=\"_parent\"><img src=\"https://colab.research.google.com/assets/colab-badge.svg\" alt=\"Open In Colab\"/></a>"
      ]
    },
    {
      "cell_type": "code",
      "execution_count": 4,
      "metadata": {
        "id": "FLb9trY6lkFB"
      },
      "outputs": [],
      "source": [
        "#Exercicio05\n",
        "\n",
        "def ant_suc(a):\n",
        "  print(f\"\\nO antecessor do {a} é o {a-1} e o seu sucessor é o {a+1}\")"
      ]
    },
    {
      "cell_type": "code",
      "source": [
        "ant_suc(20)"
      ],
      "metadata": {
        "colab": {
          "base_uri": "https://localhost:8080/"
        },
        "id": "Gy1tG2x-mNuJ",
        "outputId": "62c0f37b-522b-48d5-d2ef-92d45c34429f"
      },
      "execution_count": 5,
      "outputs": [
        {
          "output_type": "stream",
          "name": "stdout",
          "text": [
            "\n",
            "O antecessor do 20 é o 19 e o seu sucessor é o 21\n"
          ]
        }
      ]
    }
  ]
}