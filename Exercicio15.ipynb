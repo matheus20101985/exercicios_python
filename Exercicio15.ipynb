{
  "nbformat": 4,
  "nbformat_minor": 0,
  "metadata": {
    "colab": {
      "provenance": [],
      "authorship_tag": "ABX9TyOgvJ7fdMtjxoY/19EI0aNp",
      "include_colab_link": true
    },
    "kernelspec": {
      "name": "python3",
      "display_name": "Python 3"
    },
    "language_info": {
      "name": "python"
    }
  },
  "cells": [
    {
      "cell_type": "markdown",
      "metadata": {
        "id": "view-in-github",
        "colab_type": "text"
      },
      "source": [
        "<a href=\"https://colab.research.google.com/github/matheus20101985/exercicios_python/blob/main/Exercicio15.ipynb\" target=\"_parent\"><img src=\"https://colab.research.google.com/assets/colab-badge.svg\" alt=\"Open In Colab\"/></a>"
      ]
    },
    {
      "cell_type": "code",
      "execution_count": 2,
      "metadata": {
        "colab": {
          "base_uri": "https://localhost:8080/"
        },
        "id": "BuqBMAo6jE7R",
        "outputId": "d4970f98-e7f0-4459-ea24-f9e2a301195d"
      },
      "outputs": [
        {
          "output_type": "stream",
          "name": "stdout",
          "text": [
            "informe a quantidade de dias com carro alugado: 8\n",
            "informe a quantidade de km rodados: 720\n",
            "para 8 dias de carro locado com 720km rodados vc vai pagar R$588.00 reais\n"
          ]
        }
      ],
      "source": [
        "#Exercicio15\n",
        "\n",
        "def localiza():\n",
        "  a = int(input(\"informe a quantidade de dias com carro alugado: \"))\n",
        "  k = int(input(\"informe a quantidade de km rodados: \"))\n",
        "  print(f\"para {a} dias de carro locado com {k}km rodados vc vai pagar R${(a*60)+(k*0.15):.2f} reais\")\n",
        "\n",
        "localiza()\n"
      ]
    }
  ]
}