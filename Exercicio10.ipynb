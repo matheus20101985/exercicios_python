{
  "nbformat": 4,
  "nbformat_minor": 0,
  "metadata": {
    "colab": {
      "provenance": [],
      "authorship_tag": "ABX9TyPfjJ/h73sVswnWhSxSn6jP",
      "include_colab_link": true
    },
    "kernelspec": {
      "name": "python3",
      "display_name": "Python 3"
    },
    "language_info": {
      "name": "python"
    }
  },
  "cells": [
    {
      "cell_type": "markdown",
      "metadata": {
        "id": "view-in-github",
        "colab_type": "text"
      },
      "source": [
        "<a href=\"https://colab.research.google.com/github/matheus20101985/exercicios_python/blob/main/Exercicio10.ipynb\" target=\"_parent\"><img src=\"https://colab.research.google.com/assets/colab-badge.svg\" alt=\"Open In Colab\"/></a>"
      ]
    },
    {
      "cell_type": "code",
      "execution_count": 3,
      "metadata": {
        "id": "FLb9trY6lkFB"
      },
      "outputs": [],
      "source": [
        "#Exercicio10\n",
        "\n",
        "def conversor_moeda(a):\n",
        "  print(f\"com R${a:.2f} voce pode comprar U${a*0.20:.2f} \")\n",
        "\n",
        "\n",
        "\n"
      ]
    },
    {
      "cell_type": "code",
      "source": [
        "conversor_moeda(1)"
      ],
      "metadata": {
        "colab": {
          "base_uri": "https://localhost:8080/"
        },
        "id": "Gy1tG2x-mNuJ",
        "outputId": "5ef983a0-33ef-4654-a530-0d938a6f8279"
      },
      "execution_count": 5,
      "outputs": [
        {
          "output_type": "stream",
          "name": "stdout",
          "text": [
            "com R$1.00 voce pode comprar U$0.20 \n"
          ]
        }
      ]
    },
    {
      "cell_type": "code",
      "source": [],
      "metadata": {
        "id": "KI9Hf00dm8Vn"
      },
      "execution_count": null,
      "outputs": []
    }
  ]
}