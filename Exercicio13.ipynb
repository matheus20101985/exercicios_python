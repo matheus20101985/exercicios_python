{
  "nbformat": 4,
  "nbformat_minor": 0,
  "metadata": {
    "colab": {
      "provenance": [],
      "authorship_tag": "ABX9TyM4m3Czc7e0U2HkDAeLJ+EL",
      "include_colab_link": true
    },
    "kernelspec": {
      "name": "python3",
      "display_name": "Python 3"
    },
    "language_info": {
      "name": "python"
    }
  },
  "cells": [
    {
      "cell_type": "markdown",
      "metadata": {
        "id": "view-in-github",
        "colab_type": "text"
      },
      "source": [
        "<a href=\"https://colab.research.google.com/github/matheus20101985/exercicios_python/blob/main/Exercicio13.ipynb\" target=\"_parent\"><img src=\"https://colab.research.google.com/assets/colab-badge.svg\" alt=\"Open In Colab\"/></a>"
      ]
    },
    {
      "cell_type": "code",
      "execution_count": 7,
      "metadata": {
        "colab": {
          "base_uri": "https://localhost:8080/"
        },
        "id": "BRbC80iceAa4",
        "outputId": "e4537974-6499-4ae3-a17f-aa56b2811440"
      },
      "outputs": [
        {
          "output_type": "stream",
          "name": "stdout",
          "text": [
            "com o aumento de 15%, seu salario agora será de 4967.34\n"
          ]
        }
      ],
      "source": [
        "#Exercicio13\n",
        "\n",
        "def aumento_salario(a):\n",
        "   print(f\"com o aumento de 15%, seu salario agora será de {a*1.15:.2f}\")\n",
        "\n",
        "\n",
        "aumento_salario(4319.43)  "
      ]
    },
    {
      "cell_type": "code",
      "source": [],
      "metadata": {
        "id": "2AHg32iHeEDo"
      },
      "execution_count": 1,
      "outputs": []
    }
  ]
}