{
  "nbformat": 4,
  "nbformat_minor": 0,
  "metadata": {
    "colab": {
      "provenance": [],
      "authorship_tag": "ABX9TyMrslxnX34M5rWpnKfJUOkT",
      "include_colab_link": true
    },
    "kernelspec": {
      "name": "python3",
      "display_name": "Python 3"
    },
    "language_info": {
      "name": "python"
    }
  },
  "cells": [
    {
      "cell_type": "markdown",
      "metadata": {
        "id": "view-in-github",
        "colab_type": "text"
      },
      "source": [
        "<a href=\"https://colab.research.google.com/github/matheus20101985/exercicios_python/blob/main/Exercicio4.ipynb\" target=\"_parent\"><img src=\"https://colab.research.google.com/assets/colab-badge.svg\" alt=\"Open In Colab\"/></a>"
      ]
    },
    {
      "cell_type": "code",
      "execution_count": 1,
      "metadata": {
        "colab": {
          "base_uri": "https://localhost:8080/"
        },
        "id": "9kD0Y4cJdsiv",
        "outputId": "8663384d-1c3b-4a24-815e-9ba75ff91955"
      },
      "outputs": [
        {
          "name": "stdout",
          "output_type": "stream",
          "text": [
            "informe algo: matheus\n"
          ]
        }
      ],
      "source": [
        "#Exercicio 4\n",
        "\n",
        "texto = input(\"informe algo: \")"
      ]
    },
    {
      "cell_type": "code",
      "source": [
        "print(f\"o tipo da variável é {type(texto)}\")\n"
      ],
      "metadata": {
        "colab": {
          "base_uri": "https://localhost:8080/"
        },
        "id": "0LPsCWFTecjO",
        "outputId": "62656e2e-2107-4d04-82e9-02842d30c5e7"
      },
      "execution_count": 2,
      "outputs": [
        {
          "output_type": "stream",
          "name": "stdout",
          "text": [
            "o tipo da variável é <class 'str'>\n"
          ]
        }
      ]
    },
    {
      "cell_type": "code",
      "source": [
        "print(f\"a variável é do tipo numérico? {texto.isnumeric()} \")"
      ],
      "metadata": {
        "colab": {
          "base_uri": "https://localhost:8080/"
        },
        "id": "TUpB8yAcfBXL",
        "outputId": "edec41d5-a0e9-45da-976a-213d1e84850c"
      },
      "execution_count": 3,
      "outputs": [
        {
          "output_type": "stream",
          "name": "stdout",
          "text": [
            "a variável é do tipo numérico? False \n"
          ]
        }
      ]
    },
    {
      "cell_type": "code",
      "source": [
        "print(f\"a variável é do tipo alfanumerico? {texto.isalnum()}\")"
      ],
      "metadata": {
        "colab": {
          "base_uri": "https://localhost:8080/"
        },
        "id": "kVSbuRyNhDr8",
        "outputId": "47f1bba0-6035-4637-9879-fbf070eda4a1"
      },
      "execution_count": 4,
      "outputs": [
        {
          "output_type": "stream",
          "name": "stdout",
          "text": [
            "a variável é do tipo alfanumerico? True\n"
          ]
        }
      ]
    },
    {
      "cell_type": "code",
      "source": [
        "print(f\"a variável é do tipo alfabetico? {texto.isalpha()}\")"
      ],
      "metadata": {
        "colab": {
          "base_uri": "https://localhost:8080/"
        },
        "id": "HKvqVk3ifuMT",
        "outputId": "791725c8-a9db-4214-a49e-07a3e55b0879"
      },
      "execution_count": 5,
      "outputs": [
        {
          "output_type": "stream",
          "name": "stdout",
          "text": [
            "a variável é do tipo alfabetico? True\n"
          ]
        }
      ]
    },
    {
      "cell_type": "code",
      "source": [
        "print(f\"o texto esta em maiúscula? {texto.isupper()}\")"
      ],
      "metadata": {
        "colab": {
          "base_uri": "https://localhost:8080/"
        },
        "id": "fX_8rdi7gm4K",
        "outputId": "b4dac19c-24be-491f-9474-7e1a2df20da5"
      },
      "execution_count": 6,
      "outputs": [
        {
          "output_type": "stream",
          "name": "stdout",
          "text": [
            "o texto esta em maiúscula? False\n"
          ]
        }
      ]
    },
    {
      "cell_type": "code",
      "source": [
        "print(f\"o texto esta em minúsculo? {texto.islower()}\")"
      ],
      "metadata": {
        "colab": {
          "base_uri": "https://localhost:8080/"
        },
        "id": "kpEmr9K1gyrr",
        "outputId": "137be02b-d3b8-4c02-a222-d25dd7ac85b4"
      },
      "execution_count": 7,
      "outputs": [
        {
          "output_type": "stream",
          "name": "stdout",
          "text": [
            "o texto esta em minúsculo? True\n"
          ]
        }
      ]
    }
  ]
}