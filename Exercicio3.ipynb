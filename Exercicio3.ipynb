{
  "nbformat": 4,
  "nbformat_minor": 0,
  "metadata": {
    "colab": {
      "provenance": [],
      "authorship_tag": "ABX9TyOYqPmoMLhkHaSNN0tdK5SX",
      "include_colab_link": true
    },
    "kernelspec": {
      "name": "python3",
      "display_name": "Python 3"
    },
    "language_info": {
      "name": "python"
    }
  },
  "cells": [
    {
      "cell_type": "markdown",
      "metadata": {
        "id": "view-in-github",
        "colab_type": "text"
      },
      "source": [
        "<a href=\"https://colab.research.google.com/github/matheus20101985/exercicios_python/blob/main/Exercicio3.ipynb\" target=\"_parent\"><img src=\"https://colab.research.google.com/assets/colab-badge.svg\" alt=\"Open In Colab\"/></a>"
      ]
    },
    {
      "cell_type": "code",
      "execution_count": 1,
      "metadata": {
        "colab": {
          "base_uri": "https://localhost:8080/"
        },
        "id": "q6G5bOCYcrMW",
        "outputId": "29dd6b93-cd35-4bb1-a8b1-0662aba03223"
      },
      "outputs": [
        {
          "output_type": "stream",
          "name": "stdout",
          "text": [
            "informe um valor: 2\n",
            "informe outro valor: 3\n",
            "a soma entre 2 e 3 é 5\n"
          ]
        }
      ],
      "source": [
        "#Exercicio3\n",
        "\n",
        "valor1 = int(input(\"informe um valor: \"))\n",
        "\n",
        "valor2 = int(input(\"informe outro valor: \"))\n",
        "\n",
        "print(f\"a soma entre {valor1} e {valor2} é {valor1 + valor2}\")"
      ]
    }
  ]
}