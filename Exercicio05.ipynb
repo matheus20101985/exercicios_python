{
  "nbformat": 4,
  "nbformat_minor": 0,
  "metadata": {
    "colab": {
      "provenance": [],
      "authorship_tag": "ABX9TyNfuIrGImV38bf4pe6lYsog",
      "include_colab_link": true
    },
    "kernelspec": {
      "name": "python3",
      "display_name": "Python 3"
    },
    "language_info": {
      "name": "python"
    }
  },
  "cells": [
    {
      "cell_type": "markdown",
      "metadata": {
        "id": "view-in-github",
        "colab_type": "text"
      },
      "source": [
        "<a href=\"https://colab.research.google.com/github/matheus20101985/exercicios_python/blob/main/Exercicio05.ipynb\" target=\"_parent\"><img src=\"https://colab.research.google.com/assets/colab-badge.svg\" alt=\"Open In Colab\"/></a>"
      ]
    },
    {
      "cell_type": "code",
      "execution_count": 13,
      "metadata": {
        "id": "FLb9trY6lkFB"
      },
      "outputs": [],
      "source": [
        "#Exercicio05\n",
        "\n",
        "def ant_suc(a):\n",
        "  a = int(input(\"informe um numero: \"))\n",
        "\n",
        "  print(f\"\\nO antecessor do {a} é o {a-1} e o seu sucessor é o {a+1}\")"
      ]
    },
    {
      "cell_type": "code",
      "source": [
        "ant_suc(10)"
      ],
      "metadata": {
        "colab": {
          "base_uri": "https://localhost:8080/"
        },
        "id": "Gy1tG2x-mNuJ",
        "outputId": "25160844-261d-419d-9894-b795a70760fb"
      },
      "execution_count": 14,
      "outputs": [
        {
          "output_type": "stream",
          "name": "stdout",
          "text": [
            "informe um numero: 10\n",
            "\n",
            " O antecessor do 10 é o 9 e o seu sucessor é o 11\n"
          ]
        }
      ]
    },
    {
      "cell_type": "code",
      "source": [],
      "metadata": {
        "id": "KI9Hf00dm8Vn"
      },
      "execution_count": null,
      "outputs": []
    }
  ]
}