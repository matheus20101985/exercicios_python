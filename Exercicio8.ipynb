{
  "nbformat": 4,
  "nbformat_minor": 0,
  "metadata": {
    "colab": {
      "provenance": [],
      "authorship_tag": "ABX9TyPGyjSJqFhAjMybuqrjt6Vc",
      "include_colab_link": true
    },
    "kernelspec": {
      "name": "python3",
      "display_name": "Python 3"
    },
    "language_info": {
      "name": "python"
    }
  },
  "cells": [
    {
      "cell_type": "markdown",
      "metadata": {
        "id": "view-in-github",
        "colab_type": "text"
      },
      "source": [
        "<a href=\"https://colab.research.google.com/github/matheus20101985/exercicios_python/blob/main/Exercicio8.ipynb\" target=\"_parent\"><img src=\"https://colab.research.google.com/assets/colab-badge.svg\" alt=\"Open In Colab\"/></a>"
      ]
    },
    {
      "cell_type": "code",
      "execution_count": 4,
      "metadata": {
        "id": "gtntAkxnv3Kz"
      },
      "outputs": [],
      "source": [
        "#Exercicio8\n",
        "\n",
        "def conversor(a):\n",
        "  print(f\"{a}m = {a/1000}km\")\n",
        "  print(f\"{a}m = {a/100}hm\")\n",
        "  print(f\"{a}m = {a/10}dam\")\n",
        "  print(f\"{a}m = {a*10}dm\")\n",
        "  print(f\"{a}m = {a*100}cm\")\n",
        "  print(f\"{a}m = {a*1000}mm\")\n"
      ]
    },
    {
      "cell_type": "code",
      "source": [
        "conversor(3)"
      ],
      "metadata": {
        "colab": {
          "base_uri": "https://localhost:8080/"
        },
        "id": "CqXJiTryv5qx",
        "outputId": "8eeee210-ad41-44d9-a817-684912cfefda"
      },
      "execution_count": 5,
      "outputs": [
        {
          "output_type": "stream",
          "name": "stdout",
          "text": [
            "3m = 0.003km\n",
            "3m = 0.03hm\n",
            "3m = 0.3dam\n",
            "3m = 30dm\n",
            "3m = 300cm\n",
            "3m = 3000mm\n"
          ]
        }
      ]
    },
    {
      "cell_type": "code",
      "source": [],
      "metadata": {
        "id": "J8QqAGR7wtNX"
      },
      "execution_count": null,
      "outputs": []
    }
  ]
}