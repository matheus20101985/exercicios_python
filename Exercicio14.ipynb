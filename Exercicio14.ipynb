{
  "nbformat": 4,
  "nbformat_minor": 0,
  "metadata": {
    "colab": {
      "provenance": [],
      "authorship_tag": "ABX9TyOdlBqdYlTr5o6q1eiBNwTW",
      "include_colab_link": true
    },
    "kernelspec": {
      "name": "python3",
      "display_name": "Python 3"
    },
    "language_info": {
      "name": "python"
    }
  },
  "cells": [
    {
      "cell_type": "markdown",
      "metadata": {
        "id": "view-in-github",
        "colab_type": "text"
      },
      "source": [
        "<a href=\"https://colab.research.google.com/github/matheus20101985/exercicios_python/blob/main/Exercicio14.ipynb\" target=\"_parent\"><img src=\"https://colab.research.google.com/assets/colab-badge.svg\" alt=\"Open In Colab\"/></a>"
      ]
    },
    {
      "cell_type": "code",
      "execution_count": 2,
      "metadata": {
        "colab": {
          "base_uri": "https://localhost:8080/"
        },
        "id": "HUhPx0cxhSRh",
        "outputId": "5e26a89a-889c-4e44-c567-7e038aff1199"
      },
      "outputs": [
        {
          "output_type": "stream",
          "name": "stdout",
          "text": [
            "31.5° Celsius equivale a 88.70° fahrenheit\n"
          ]
        }
      ],
      "source": [
        "#Exercicio 14\n",
        "\n",
        "\n",
        "def conversor_temperatura(a):\n",
        "  print(f\"{a}° Celsius equivale a {(a*1.8)+32:.2f}° fahrenheit\")\n",
        "\n",
        "conversor_temperatura(31.5)\n"
      ]
    }
  ]
}