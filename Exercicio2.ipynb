{
  "nbformat": 4,
  "nbformat_minor": 0,
  "metadata": {
    "colab": {
      "provenance": [],
      "authorship_tag": "ABX9TyNYn9cPy9vE4B0VUHImAYcV",
      "include_colab_link": true
    },
    "kernelspec": {
      "name": "python3",
      "display_name": "Python 3"
    },
    "language_info": {
      "name": "python"
    }
  },
  "cells": [
    {
      "cell_type": "markdown",
      "metadata": {
        "id": "view-in-github",
        "colab_type": "text"
      },
      "source": [
        "<a href=\"https://colab.research.google.com/github/matheus20101985/exercicios_python/blob/main/Exercicio2.ipynb\" target=\"_parent\"><img src=\"https://colab.research.google.com/assets/colab-badge.svg\" alt=\"Open In Colab\"/></a>"
      ]
    },
    {
      "cell_type": "code",
      "execution_count": 2,
      "metadata": {
        "colab": {
          "base_uri": "https://localhost:8080/"
        },
        "id": "_YkCTb2IY4w9",
        "outputId": "911be251-0a47-4389-c4eb-17ae733cc2d5"
      },
      "outputs": [
        {
          "output_type": "stream",
          "name": "stdout",
          "text": [
            "informe seu nome: Matheus\n",
            "é um prazer te conhecer Matheus\n"
          ]
        }
      ],
      "source": [
        "#Exercicio 2\n",
        "\n",
        "nome = input(\"informe seu nome: \")\n",
        "\n",
        "print(f\"é um prazer te conhecer {nome}\")"
      ]
    },
    {
      "cell_type": "code",
      "source": [],
      "metadata": {
        "id": "la8KvyWBZTvF"
      },
      "execution_count": null,
      "outputs": []
    }
  ]
}