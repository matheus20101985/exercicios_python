{
  "nbformat": 4,
  "nbformat_minor": 0,
  "metadata": {
    "colab": {
      "provenance": [],
      "authorship_tag": "ABX9TyPgmw/LJnKUhf7M6nffxMHH",
      "include_colab_link": true
    },
    "kernelspec": {
      "name": "python3",
      "display_name": "Python 3"
    },
    "language_info": {
      "name": "python"
    }
  },
  "cells": [
    {
      "cell_type": "markdown",
      "metadata": {
        "id": "view-in-github",
        "colab_type": "text"
      },
      "source": [
        "<a href=\"https://colab.research.google.com/github/matheus20101985/exercicios_python/blob/main/Exercicio6.ipynb\" target=\"_parent\"><img src=\"https://colab.research.google.com/assets/colab-badge.svg\" alt=\"Open In Colab\"/></a>"
      ]
    },
    {
      "cell_type": "code",
      "execution_count": 17,
      "metadata": {
        "id": "jB5bOpv_pCjP"
      },
      "outputs": [],
      "source": [
        "#Exercicio06\n",
        "\n",
        "def dob_trip_raiz(a):\n",
        "  print(f\"\\nO drobro de {a} = {a*2}\")\n",
        "  print(f\"\\nO triplo de {a} = {a*3}\")\n",
        "  print(f\"\\nA raiz de {a} = {a**(1/2):.2f}\")\n"
      ]
    },
    {
      "cell_type": "code",
      "source": [
        "dob_trip_raiz(15)"
      ],
      "metadata": {
        "colab": {
          "base_uri": "https://localhost:8080/"
        },
        "id": "DV7LDHXlpFXY",
        "outputId": "c900dce9-a60a-45d6-bd9c-6235d422d2c8"
      },
      "execution_count": 18,
      "outputs": [
        {
          "output_type": "stream",
          "name": "stdout",
          "text": [
            "\n",
            "O drobro de 15 = 30\n",
            "\n",
            "O triplo de 15 = 45\n",
            "\n",
            "A raiz de 15 = 3.87\n"
          ]
        }
      ]
    }
  ]
}